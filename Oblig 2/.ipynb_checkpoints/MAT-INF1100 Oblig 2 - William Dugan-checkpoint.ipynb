{
 "cells": [
  {
   "cell_type": "markdown",
   "metadata": {},
   "source": [
    "# Oppgave 1"
   ]
  },
  {
   "cell_type": "markdown",
   "metadata": {},
   "source": [
    "## Oppgave 1a."
   ]
  },
  {
   "cell_type": "markdown",
   "metadata": {},
   "source": [
    "Vi skal bruke Taylor approksimasjon for å tilnærme funksjonen $f(x)=arctan(x)$ i punktet $a=0$. Vi skal finne Taylorapproksimasjonen av 3. orden til f. Vi vet at $f(0)=0$. Videre skal vi finne 1., 2., og 3. deriverte til $f$.\n",
    "\n",
    "\\begin{align*}\n",
    "f'(x) = \\frac{1}{1 + x^2} => \\frac{1}{1 + 0^2} * (x-0) &= x \\\\\n",
    "f''(x) = [(1 + x^2)^{-1}]' = \\frac{-2x}{(1 + x^2)^2} => 0 * (x-0)^2 &= 0 \\\\\n",
    "f'''(x) = \\frac{(-2)(1 + x^2)^2 - (-2x)*2*(1 + x^2)(2x)}{(1 + x^2)^4}  = \\frac{6x^2 - 2}{(1 + x^2)^3} => -\\frac{2}{3!} * (x-0)^3 &= -\\frac{x^3}{3}\n",
    "\\end{align*}\n",
    "\n",
    "Dermed er Taylorapproksimasjonen til $f$ av 3. orden i punktet $a=0$\n",
    "\\begin{equation}\n",
    "T_3f(x) =  x - \\frac{x^3}{3}.\n",
    "\\end{equation}"
   ]
  },
  {
   "cell_type": "markdown",
   "metadata": {},
   "source": [
    "## Oppgave 1b."
   ]
  },
  {
   "cell_type": "markdown",
   "metadata": {},
   "source": [
    "I denne oppgaven skal vi plotte $f(x)=ln(x)$ og Taylorapproksimasjonene til $f$ av orden 1, 2, og 3 i punktet $a=1$. Jeg begynner med å finne uttrykk for de tre første leddene i Taylor rekken.\n",
    "\n",
    "\\begin{align*}\n",
    "f(a) &= 0 \\\\\n",
    "f'(x) = \\frac{1}{x} => \\frac{1}{1!} * (x-1) &= (x-1) \\\\\n",
    "f''(x) = -\\frac{1}{x^2} => -\\frac{1}{2!} * (x-1)^2 &= -\\frac{1}{2} (x-1)^2 \\\\\n",
    "f'''(x) = \\frac{2}{x^3} => \\frac{2}{3!} * (x-1)^3 &= \\frac{1}{3} (x-1)^3 \\\\\n",
    "\\end{align*}\n",
    "\n",
    "Videre programmerer jeg dette i Python. Siden \n",
    "\\begin{equation}\n",
    "T_nf(x) = \\sum_{k=0}^n \\frac{f^{(k)}(a)}{k!}(x-a)^k\n",
    "\\end{equation}\n",
    "\n",
    "har jeg definert $T_2f(x)$ som summen av $T_1f(x)$ og det det neste leddet i rekken. Koden ser slik ut:"
   ]
  },
  {
   "cell_type": "code",
   "execution_count": 1,
   "metadata": {},
   "outputs": [],
   "source": [
    "import matplotlib.pyplot as plt\n",
    "import numpy as np\n",
    "\n",
    "def f(x):\n",
    "    return np.log(x)\n",
    "\n",
    "def T1f(x):\n",
    "    return (x-1)\n",
    "\n",
    "def T2f(x):\n",
    "    return T1f(x) - 1/2 * (x-1) ** 2\n",
    "\n",
    "def T3f(x):\n",
    "    return T2f(x) + 1/3 * (x-1) ** 3"
   ]
  },
  {
   "cell_type": "markdown",
   "metadata": {},
   "source": [
    "For å plotte dette bruker jeg matplotlib.pyplot med x-verdiene gitt i oppgaven. "
   ]
  },
  {
   "cell_type": "code",
   "execution_count": 2,
   "metadata": {},
   "outputs": [
    {
     "data": {
      "image/png": "[encoded data removed]",
      "text/plain": [
       "<Figure size 432x288 with 1 Axes>"
      ]
     },
     "metadata": {
      "needs_background": "light"
     },
     "output_type": "display_data"
    }
   ],
   "source": [
    "x_min = 0.05\n",
    "x_max = 1.95\n",
    "points = 1000\n",
    "x = np.linspace(x_min, x_max, points)\n",
    "\n",
    "plt.plot(x, f(x), label='ln(x)')\n",
    "plt.plot(x, T1f(x), label='n=1')\n",
    "plt.plot(x, T2f(x), label='n=2')\n",
    "plt.plot(x, T3f(x), label='n=3')\n",
    "\n",
    "plt.title('Taylor approximation of ln(x)')\n",
    "plt.xlim(x_min, x_max)\n",
    "plt.legend(loc='lower right')\n",
    "plt.grid()\n",
    "plt.show()"
   ]
  },
  {
   "cell_type": "markdown",
   "metadata": {},
   "source": [
    "Her ser vi at approksimasjonen til $f$ blir bedre med flere ledd i Taylor rekken. "
   ]
  },
  {
   "cell_type": "markdown",
   "metadata": {},
   "source": [
    "# Oppgave 2"
   ]
  },
  {
   "cell_type": "markdown",
   "metadata": {},
   "source": [
    "## Oppgave 2a."
   ]
  },
  {
   "cell_type": "markdown",
   "metadata": {},
   "source": [
    "Vi er gitt funksjonen $f(x) = \\frac{1}{x^2}$. Vi skal vise med induksjon at $f^{(k)}(x) = (-1)^k (k+1)! / x^{k+2}$ for alle $k \\geq 0$. Vi begynner med å teste at påstanden stemmer for $n = 0$. Vi vet at $f^{0}(x) = f(x)$.\n",
    "\n",
    "\\begin{align*}\n",
    "f^{0}(x) = \\frac{(-1)^0 (0+1)!}{x^{0+2}} = \\frac{1}{x^2}\n",
    "\\end{align*}\n",
    "\n",
    "Videre antar vi at påstanden stemmer for $n = 0, 1, ..., k$. Vi må vise at påstanden stemmer for $n = k+1$. Vi har\n",
    "\n",
    "\\begin{align*}\n",
    "f^{k}(x) &= \\frac{(-1)^k (k+1)!}{x^{k+2}} \\\\\n",
    "f^{k+1}(x) &= \\frac{(-1)^{k+1} ((k+1)+1)!}{x^{(k+1)+2}} \\\\\n",
    "&= \\frac{(-1)^{k+1} (k+2)!}{x^{k+3}}\n",
    "\\end{align*}\n",
    "\n",
    "Siden $f^{k+1}(x) = D[f^{k}(x)]$ må vi vise at $\\frac{d}{dx} f^{k}(x) = f^{k+1}(x)$.\n",
    "\n",
    "\\begin{align*}\n",
    "\\frac{d}{dx} f^{k}(x) &= \\frac{(-1)^{k+1}(k+2)(k+1)!}{x^{k+3}} \\\\\n",
    "&= \\frac{(-1)^{k+1}(k+2)!}{x^{k+3}} \\\\\n",
    "&= f^{k+1}(x)\n",
    "\\end{align*}\n",
    "\n",
    "Vi har nå vist med induksjon at $f^{(k)}(x) = (-1)^k (k+1)! / x^{k+2}$ for alle $k \\geq 0$."
   ]
  },
  {
   "cell_type": "markdown",
   "metadata": {},
   "source": [
    "## Oppgave 2b."
   ]
  },
  {
   "cell_type": "markdown",
   "metadata": {},
   "source": [
    "Vi skal finne Taylorapproksimasjonen $T_nf(x)$ til $f$ i punktet $a=1$ og et uttrykk for restleddet $R_nf(x)$. Vi bruker (2) og formelen for den $n$-te deriverte til $f$ og $a=1$\n",
    "\n",
    "\\begin{align*}\n",
    "T_nf(x) &= \\sum_{k=0}^n \\frac{f^{(k)}(a)}{k!}(x-a)^k \\\\\n",
    "&= \\sum_{k=0}^n \\frac{(-1)^k \\frac{(k+1)!}{a^{k+2}}}{k!} (x-a)^k \\\\\n",
    "&= \\sum_{k=0}^n (-1)^k (k+1) (x-1)^k\n",
    "\\end{align*}\n",
    "\n",
    "Videre bruker vi Lagranges restleddformel (11.2.3 i Kalkulus) for å finne et uttrykk for restleddet.\n",
    "\n",
    "\\begin{align*}\n",
    "R_nf(x) &= \\frac{f^{(n+1)(c)}}{(n+1)!} (x-a)^{n+1} \\\\\n",
    "&= \\frac{(-1)^{n+1} \\frac{(n+2)!}{c^{n+3}}}{(n+1)!} (x-a)^{n+1} \\\\\n",
    "&= (-1)^{n+1} \\frac{n+2}{c^{n+3}} (x-1)^{n+1}\n",
    "\\end{align*}"
   ]
  },
  {
   "cell_type": "markdown",
   "metadata": {},
   "source": [
    "## Oppgave 2c."
   ]
  },
  {
   "cell_type": "markdown",
   "metadata": {},
   "source": [
    "Jeg valgte å løse denne deloppgaven i Python, men det er helt sikkert mulig å løse den for hånd også. Jeg begynner med å definere uttrykkene fra oppg. 2b."
   ]
  },
  {
   "cell_type": "code",
   "execution_count": 3,
   "metadata": {},
   "outputs": [],
   "source": [
    "import matplotlib.pyplot as plt\n",
    "import numpy as np\n",
    "\n",
    "def f(x):\n",
    "    return 1 / x ** 2\n",
    "\n",
    "def Tnf(x, n):\n",
    "    s = 0\n",
    "    for k in range(n+1):\n",
    "        s += (-1)**k * (k+1) * (x-1)**k\n",
    "    return s\n",
    "\n",
    "def Rnf(x, c, n):\n",
    "    return (-1)**(n+1) * ((n+2)/c**(n+3)) * (x-1)**(n+1)"
   ]
  },
  {
   "cell_type": "markdown",
   "metadata": {},
   "source": [
    "Videre ønsker jeg å plotte Taylorapproksimasjonene for å sjekke at funksjonene er riktige og fungerer som forventet. Dette gjøres enkelt med matplotlib.pyplot."
   ]
  },
  {
   "cell_type": "code",
   "execution_count": 4,
   "metadata": {},
   "outputs": [
    {
     "data": {
      "image/png": "[encoded data removed]",
      "text/plain": [
       "<Figure size 432x288 with 1 Axes>"
      ]
     },
     "metadata": {
      "needs_background": "light"
     },
     "output_type": "display_data"
    }
   ],
   "source": [
    "x = np.linspace(1, 1.25, 1000)\n",
    "plt.plot(x, f(x), label='f(x)')\n",
    "\n",
    "for n in range(5):\n",
    "    plt.plot(x, Tnf(x, n), label=f'n={n}')\n",
    "\n",
    "plt.title(r'Taylor approximation of f(x)=$\\frac{1}{x^2}$')\n",
    "plt.grid()\n",
    "plt.xlim(1, 1.25)\n",
    "plt.legend()\n",
    "plt.show()"
   ]
  },
  {
   "cell_type": "markdown",
   "metadata": {},
   "source": [
    "Jeg ser at tilnærmingen til $f$ blir bedre med høyere grad av $n$. Videre skal vi finne et naturlig tall $N$ slik at for alle $n \\geq N$ og for alle $x\\in[1, 1.25]$ skal feilen i $T_nf(x)$ være mindre enn 0.02 (altså $R_nf(x) \\leq 0.02$). Fra grafen ovenfor ser jeg at feilen er størst i $x = 1.25$. Siden vi deler på $c^{n+3}$ er feilen størst når $c = 1$. Dermed velger jeg å regne ut feilen for $x = 1.25, c = 1$ for å sørge for at $R_nf(x) \\leq 0.02$ for alle $x\\in[1, 1.25]$. Dette gjøres med en kort while-løkke."
   ]
  },
  {
   "cell_type": "code",
   "execution_count": 5,
   "metadata": {},
   "outputs": [
    {
     "name": "stdout",
     "output_type": "stream",
     "text": [
      "0.01953125 3\n"
     ]
    }
   ],
   "source": [
    "x = 1.25\n",
    "c = 1.0\n",
    "n = 0\n",
    "error = Rnf(x, c, n)\n",
    "\n",
    "while abs(error) > 0.02:\n",
    "    n += 1\n",
    "    error = Rnf(x, c, n)\n",
    "    \n",
    "print(error, n)"
   ]
  },
  {
   "cell_type": "markdown",
   "metadata": {},
   "source": [
    "Programmet forteller at når $n = 3$ er feilen i $T_nf(x)$ som er $\\leq 0.02$. For å dobbeltsjekke at dette funker kjører jeg en kort testfunksjon som bruker at $R_nf(x) = f - T_nf(x)$. Denne sørger for at dersom det er tall $n \\geq 3$ som gir feil større enn 0.02 stopper programmet og returnerer en feilmelding."
   ]
  },
  {
   "cell_type": "code",
   "execution_count": 6,
   "metadata": {},
   "outputs": [],
   "source": [
    "def test_error():\n",
    "    x = 1.25\n",
    "    c = 1.0\n",
    "    for n in range(1000, 3, -1):\n",
    "        expected = f(x) - Tnf(x, n)\n",
    "        tolerance = 0.02\n",
    "        calculated = Rnf(x, c, n)\n",
    "        sucess = abs(expected-calculated) < tolerance\n",
    "        msg = f'Test failed at n = {n}'\n",
    "        assert sucess, msg\n",
    "\n",
    "test_error()"
   ]
  },
  {
   "cell_type": "markdown",
   "metadata": {},
   "source": [
    "Koden skriver ikke ut noe som vil si at svaret vårt er riktig. "
   ]
  }
 ],
 "metadata": {
  "kernelspec": {
   "display_name": "Python 3",
   "language": "python",
   "name": "python3"
  },
  "language_info": {
   "codemirror_mode": {
    "name": "ipython",
    "version": 3
   },
   "file_extension": ".py",
   "mimetype": "text/x-python",
   "name": "python",
   "nbconvert_exporter": "python",
   "pygments_lexer": "ipython3",
   "version": "3.8.8"
  }
 },
 "nbformat": 4,
 "nbformat_minor": 2
}
